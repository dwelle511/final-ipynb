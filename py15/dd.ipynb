{
 "cells": [
  {
   "cell_type": "code",
   "execution_count": 2,
   "id": "caedff17",
   "metadata": {},
   "outputs": [
    {
     "name": "stdout",
     "output_type": "stream",
     "text": [
      "dd\n"
     ]
    }
   ],
   "source": [
    "print(\"dd\")"
   ]
  },
  {
   "cell_type": "code",
   "execution_count": 4,
   "id": "a6ddee8d",
   "metadata": {},
   "outputs": [
    {
     "name": "stdout",
     "output_type": "stream",
     "text": [
      "3.0>=3\n"
     ]
    }
   ],
   "source": [
    "item=3.0\n",
    "match item:\n",
    "    case float(x) if x<3:\n",
    "        print(f\"{x}>=3\")\n",
    "    case float(x) if x>=3:\n",
    "        print(f\"{x}>=3\")\n",
    "    case str(x) if len(x) >=5:\n",
    "        print(f\"문자열 len ('{x}') >=5\")\n",
    "        "
   ]
  },
  {
   "cell_type": "code",
   "execution_count": 8,
   "id": "d0269868",
   "metadata": {},
   "outputs": [
    {
     "name": "stdout",
     "output_type": "stream",
     "text": [
      "<class 'int'>\n"
     ]
    }
   ],
   "source": [
    "age =1\n",
    "age :int =1\n",
    "age :int\n",
    "print(type(age))"
   ]
  },
  {
   "cell_type": "code",
   "execution_count": 9,
   "id": "96ff90a8",
   "metadata": {},
   "outputs": [],
   "source": [
    "point :int=77"
   ]
  },
  {
   "cell_type": "code",
   "execution_count": 10,
   "id": "f728d68a",
   "metadata": {},
   "outputs": [],
   "source": [
    "ispass:bool"
   ]
  },
  {
   "cell_type": "code",
   "execution_count": 12,
   "id": "665e5262",
   "metadata": {},
   "outputs": [],
   "source": [
    "if point >=60:\n",
    "    ispass=True\n",
    "else:\n",
    "    ispass=False"
   ]
  },
  {
   "cell_type": "code",
   "execution_count": 13,
   "id": "505b119b",
   "metadata": {},
   "outputs": [
    {
     "data": {
      "text/plain": [
       "True"
      ]
     },
     "execution_count": 13,
     "metadata": {},
     "output_type": "execute_result"
    }
   ],
   "source": [
    "ispass"
   ]
  },
  {
   "cell_type": "code",
   "execution_count": 14,
   "id": "49228327",
   "metadata": {},
   "outputs": [
    {
     "data": {
      "text/plain": [
       "(15, 15)"
      ]
     },
     "execution_count": 14,
     "metadata": {},
     "output_type": "execute_result"
    }
   ],
   "source": [
    "a,b=10,5\n",
    "a+b,sum([a,b])\n"
   ]
  },
  {
   "cell_type": "code",
   "execution_count": 15,
   "id": "4e2981b7",
   "metadata": {},
   "outputs": [
    {
     "data": {
      "text/plain": [
       "(5, 5)"
      ]
     },
     "execution_count": 15,
     "metadata": {},
     "output_type": "execute_result"
    }
   ],
   "source": [
    "a-b,eval('a-b')"
   ]
  },
  {
   "cell_type": "code",
   "execution_count": 16,
   "id": "644e945d",
   "metadata": {},
   "outputs": [
    {
     "data": {
      "text/plain": [
       "(50, 50)"
      ]
     },
     "execution_count": 16,
     "metadata": {},
     "output_type": "execute_result"
    }
   ],
   "source": [
    "a*b,eval('a*b')"
   ]
  },
  {
   "cell_type": "code",
   "execution_count": 17,
   "id": "2530db64",
   "metadata": {},
   "outputs": [
    {
     "data": {
      "text/plain": [
       "(2.0, 2.0)"
      ]
     },
     "execution_count": 17,
     "metadata": {},
     "output_type": "execute_result"
    }
   ],
   "source": [
    "a/b,eval('a/b')"
   ]
  },
  {
   "cell_type": "code",
   "execution_count": 18,
   "id": "2fc65d7a",
   "metadata": {},
   "outputs": [],
   "source": [
    "from operator import add,sub,mul,truediv"
   ]
  },
  {
   "cell_type": "code",
   "execution_count": 19,
   "id": "f4ca2bd0",
   "metadata": {},
   "outputs": [],
   "source": [
    "a,b=15,6"
   ]
  },
  {
   "cell_type": "code",
   "execution_count": 20,
   "id": "a10f43e5",
   "metadata": {},
   "outputs": [
    {
     "data": {
      "text/plain": [
       "21"
      ]
     },
     "execution_count": 20,
     "metadata": {},
     "output_type": "execute_result"
    }
   ],
   "source": [
    "add(a,b)"
   ]
  },
  {
   "cell_type": "code",
   "execution_count": 35,
   "id": "4600ea59",
   "metadata": {},
   "outputs": [],
   "source": [
    "st:set[int]={30,6}"
   ]
  },
  {
   "cell_type": "code",
   "execution_count": 36,
   "id": "8a90b672",
   "metadata": {},
   "outputs": [
    {
     "name": "stdout",
     "output_type": "stream",
     "text": [
      "{30, 6}\n"
     ]
    }
   ],
   "source": [
    "print(st)"
   ]
  },
  {
   "cell_type": "code",
   "execution_count": 37,
   "id": "b75bb735",
   "metadata": {},
   "outputs": [
    {
     "ename": "ImportError",
     "evalue": "cannot import name 'nunion' from 'typing' (c:\\Users\\109-1\\AppData\\Local\\Programs\\Python\\Python313\\Lib\\typing.py)",
     "output_type": "error",
     "traceback": [
      "\u001b[31m---------------------------------------------------------------------------\u001b[39m",
      "\u001b[31mImportError\u001b[39m                               Traceback (most recent call last)",
      "\u001b[36mCell\u001b[39m\u001b[36m \u001b[39m\u001b[32mIn[37]\u001b[39m\u001b[32m, line 1\u001b[39m\n\u001b[32m----> \u001b[39m\u001b[32m1\u001b[39m \u001b[38;5;28;01mfrom\u001b[39;00m\u001b[38;5;250m \u001b[39m\u001b[34;01mtyping\u001b[39;00m\u001b[38;5;250m \u001b[39m\u001b[38;5;28;01mimport\u001b[39;00m nunion,Optional\n\u001b[32m      2\u001b[39m \u001b[38;5;28;01mfrom\u001b[39;00m\u001b[38;5;250m \u001b[39m\u001b[34;01mtyping\u001b[39;00m\u001b[38;5;250m \u001b[39m\u001b[38;5;28;01mimport\u001b[39;00m Union\n\u001b[32m      4\u001b[39m value : \u001b[38;5;28mlist\u001b[39m[union[\u001b[38;5;28mint\u001b[39m,\u001b[38;5;28mstr\u001b[39m]]=[\u001b[32m3\u001b[39m,\u001b[32m5\u001b[39m,\u001b[33m\"\u001b[39m\u001b[33mtest\u001b[39m\u001b[33m\"\u001b[39m,\u001b[33m\"\u001b[39m\u001b[33mfun\u001b[39m\u001b[33m\"\u001b[39m]\n",
      "\u001b[31mImportError\u001b[39m: cannot import name 'nunion' from 'typing' (c:\\Users\\109-1\\AppData\\Local\\Programs\\Python\\Python313\\Lib\\typing.py)"
     ]
    }
   ],
   "source": [
    "from typing import nunion,Optional\n",
    "from typing import Union\n",
    "\n",
    "value : list[union[int,str]]=[3,5,\"test\",\"fun\"]\n",
    "value"
   ]
  },
  {
   "cell_type": "code",
   "execution_count": 38,
   "id": "835efa96",
   "metadata": {},
   "outputs": [],
   "source": [
    "def plus(num1:int,num2:int)->int:\n",
    "    return num1+num2"
   ]
  },
  {
   "cell_type": "code",
   "execution_count": 39,
   "id": "f146025e",
   "metadata": {},
   "outputs": [],
   "source": [
    "def show(value :str, excitement:int =10)->None:\n",
    "    print(value+\"!\"*excitement)\n"
   ]
  },
  {
   "cell_type": "code",
   "execution_count": 40,
   "id": "73069cc9",
   "metadata": {},
   "outputs": [
    {
     "name": "stdout",
     "output_type": "stream",
     "text": [
      "wow!!!!!!!!!!\n"
     ]
    }
   ],
   "source": [
    "show('wow')"
   ]
  },
  {
   "cell_type": "code",
   "execution_count": 43,
   "id": "ee35159c",
   "metadata": {},
   "outputs": [
    {
     "ename": "TypeError",
     "evalue": "'function' object is not iterable",
     "output_type": "error",
     "traceback": [
      "\u001b[31m---------------------------------------------------------------------------\u001b[39m",
      "\u001b[31mTypeError\u001b[39m                                 Traceback (most recent call last)",
      "\u001b[36mCell\u001b[39m\u001b[36m \u001b[39m\u001b[32mIn[43]\u001b[39m\u001b[32m, line 5\u001b[39m\n\u001b[32m      2\u001b[39m \u001b[38;5;28;01mdef\u001b[39;00m\u001b[38;5;250m \u001b[39m\u001b[34maddmul\u001b[39m(func:Callable[[\u001b[38;5;28mfloat\u001b[39m,\u001b[38;5;28mfloat\u001b[39m],\u001b[38;5;28mfloat\u001b[39m],a:\u001b[38;5;28mfloat\u001b[39m,b:\u001b[38;5;28mfloat\u001b[39m)->\u001b[38;5;28mfloat\u001b[39m:\n\u001b[32m      3\u001b[39m     \u001b[38;5;28;01mreturn\u001b[39;00m func(a,b)\n\u001b[32m----> \u001b[39m\u001b[32m5\u001b[39m \u001b[38;5;28mprint\u001b[39m(\u001b[38;5;28;43mset\u001b[39;49m\u001b[43m(\u001b[49m\u001b[43maddmul\u001b[49m\u001b[43m)\u001b[49m)\n",
      "\u001b[31mTypeError\u001b[39m: 'function' object is not iterable"
     ]
    }
   ],
   "source": [
    "from typing import Callable\n",
    "def addmul(func:Callable[[float,float],float],a:float,b:float)->float:\n",
    "    return func(a,b)\n",
    "\n",
    "print(set(addmul))"
   ]
  },
  {
   "cell_type": "code",
   "execution_count": 44,
   "id": "5d2642fd",
   "metadata": {},
   "outputs": [
    {
     "ename": "ImportError",
     "evalue": "cannot import name 'py' from 'math' (unknown location)",
     "output_type": "error",
     "traceback": [
      "\u001b[31m---------------------------------------------------------------------------\u001b[39m",
      "\u001b[31mImportError\u001b[39m                               Traceback (most recent call last)",
      "\u001b[36mCell\u001b[39m\u001b[36m \u001b[39m\u001b[32mIn[44]\u001b[39m\u001b[32m, line 1\u001b[39m\n\u001b[32m----> \u001b[39m\u001b[32m1\u001b[39m \u001b[38;5;28;01mfrom\u001b[39;00m\u001b[38;5;250m \u001b[39m\u001b[34;01mmath\u001b[39;00m\u001b[38;5;250m \u001b[39m\u001b[38;5;28;01mimport\u001b[39;00m py\n",
      "\u001b[31mImportError\u001b[39m: cannot import name 'py' from 'math' (unknown location)"
     ]
    }
   ],
   "source": [
    "from math import py"
   ]
  },
  {
   "cell_type": "code",
   "execution_count": 45,
   "id": "81d3bc02",
   "metadata": {},
   "outputs": [],
   "source": [
    "pl={\"java\":1000,\"python\":1000}\n",
    "\n"
   ]
  },
  {
   "cell_type": "code",
   "execution_count": 48,
   "id": "ab11e2cd",
   "metadata": {},
   "outputs": [
    {
     "data": {
      "text/plain": [
       "'1000 1000'"
      ]
     },
     "execution_count": 48,
     "metadata": {},
     "output_type": "execute_result"
    }
   ],
   "source": [
    "f\"{pl[\"java\"]} {pl['python']}\""
   ]
  },
  {
   "cell_type": "code",
   "execution_count": 50,
   "id": "baa99ee6",
   "metadata": {},
   "outputs": [],
   "source": [
    "pl={\"java\":2000,\"python\":4000}"
   ]
  },
  {
   "cell_type": "code",
   "execution_count": 86,
   "id": "4c2cc343",
   "metadata": {},
   "outputs": [
    {
     "name": "stderr",
     "output_type": "stream",
     "text": [
      "C:\\Users\\109-1\\AppData\\Roaming\\Python\\Python313\\site-packages\\IPython\\core\\pylabtools.py:170: UserWarning: Glyph 54364 (\\N{HANGUL SYLLABLE PYO}) missing from font(s) DejaVu Sans.\n",
      "  fig.canvas.print_figure(bytes_io, **kw)\n",
      "C:\\Users\\109-1\\AppData\\Roaming\\Python\\Python313\\site-packages\\IPython\\core\\pylabtools.py:170: UserWarning: Glyph 51456 (\\N{HANGUL SYLLABLE JUN}) missing from font(s) DejaVu Sans.\n",
      "  fig.canvas.print_figure(bytes_io, **kw)\n",
      "C:\\Users\\109-1\\AppData\\Roaming\\Python\\Python313\\site-packages\\IPython\\core\\pylabtools.py:170: UserWarning: Glyph 51221 (\\N{HANGUL SYLLABLE JEONG}) missing from font(s) DejaVu Sans.\n",
      "  fig.canvas.print_figure(bytes_io, **kw)\n",
      "C:\\Users\\109-1\\AppData\\Roaming\\Python\\Python313\\site-packages\\IPython\\core\\pylabtools.py:170: UserWarning: Glyph 44396 (\\N{HANGUL SYLLABLE GU}) missing from font(s) DejaVu Sans.\n",
      "  fig.canvas.print_figure(bytes_io, **kw)\n",
      "C:\\Users\\109-1\\AppData\\Roaming\\Python\\Python313\\site-packages\\IPython\\core\\pylabtools.py:170: UserWarning: Glyph 12640 (\\N{HANGUL LETTER YU}) missing from font(s) DejaVu Sans.\n",
      "  fig.canvas.print_figure(bytes_io, **kw)\n",
      "C:\\Users\\109-1\\AppData\\Roaming\\Python\\Python313\\site-packages\\IPython\\core\\pylabtools.py:170: UserWarning: Glyph 48516 (\\N{HANGUL SYLLABLE BUN}) missing from font(s) DejaVu Sans.\n",
      "  fig.canvas.print_figure(bytes_io, **kw)\n",
      "C:\\Users\\109-1\\AppData\\Roaming\\Python\\Python313\\site-packages\\IPython\\core\\pylabtools.py:170: UserWarning: Glyph 54252 (\\N{HANGUL SYLLABLE PO}) missing from font(s) DejaVu Sans.\n",
      "  fig.canvas.print_figure(bytes_io, **kw)\n",
      "C:\\Users\\109-1\\AppData\\Roaming\\Python\\Python313\\site-packages\\IPython\\core\\pylabtools.py:170: UserWarning: Glyph 44508 (\\N{HANGUL SYLLABLE GYU}) missing from font(s) DejaVu Sans.\n",
      "  fig.canvas.print_figure(bytes_io, **kw)\n",
      "C:\\Users\\109-1\\AppData\\Roaming\\Python\\Python313\\site-packages\\IPython\\core\\pylabtools.py:170: UserWarning: Glyph 48628 (\\N{HANGUL SYLLABLE BYUN}) missing from font(s) DejaVu Sans.\n",
      "  fig.canvas.print_figure(bytes_io, **kw)\n",
      "C:\\Users\\109-1\\AppData\\Roaming\\Python\\Python313\\site-packages\\IPython\\core\\pylabtools.py:170: UserWarning: Glyph 54869 (\\N{HANGUL SYLLABLE HWAG}) missing from font(s) DejaVu Sans.\n",
      "  fig.canvas.print_figure(bytes_io, **kw)\n",
      "C:\\Users\\109-1\\AppData\\Roaming\\Python\\Python313\\site-packages\\IPython\\core\\pylabtools.py:170: UserWarning: Glyph 47456 (\\N{HANGUL SYLLABLE RYUL}) missing from font(s) DejaVu Sans.\n",
      "  fig.canvas.print_figure(bytes_io, **kw)\n",
      "C:\\Users\\109-1\\AppData\\Roaming\\Python\\Python313\\site-packages\\IPython\\core\\pylabtools.py:170: UserWarning: Glyph 48716 (\\N{HANGUL SYLLABLE BIL}) missing from font(s) DejaVu Sans.\n",
      "  fig.canvas.print_figure(bytes_io, **kw)\n",
      "C:\\Users\\109-1\\AppData\\Roaming\\Python\\Python313\\site-packages\\IPython\\core\\pylabtools.py:170: UserWarning: Glyph 46020 (\\N{HANGUL SYLLABLE DO}) missing from font(s) DejaVu Sans.\n",
      "  fig.canvas.print_figure(bytes_io, **kw)\n",
      "C:\\Users\\109-1\\AppData\\Roaming\\Python\\Python313\\site-packages\\IPython\\core\\pylabtools.py:170: UserWarning: Glyph 54632 (\\N{HANGUL SYLLABLE HAM}) missing from font(s) DejaVu Sans.\n",
      "  fig.canvas.print_figure(bytes_io, **kw)\n",
      "C:\\Users\\109-1\\AppData\\Roaming\\Python\\Python313\\site-packages\\IPython\\core\\pylabtools.py:170: UserWarning: Glyph 49688 (\\N{HANGUL SYLLABLE SU}) missing from font(s) DejaVu Sans.\n",
      "  fig.canvas.print_figure(bytes_io, **kw)\n"
     ]
    },
    {
     "data": {
      "image/png": "[encoded data removed]",
      "text/plain": [
       "<Figure size 640x480 with 1 Axes>"
      ]
     },
     "metadata": {},
     "output_type": "display_data"
    }
   ],
   "source": [
    "import numpy as np \n",
    "import matplotlib.pyplot as plt \n",
    "\n",
    "mu,sigma=0,1\n",
    "\n",
    "samples=np.random.normal(mu,sigma,1000000)\n",
    "\n",
    "plt.hist(samples,bins=50,density=True,alpha=0.3,color='skyblue',label='표준 정규뷴포')\n",
    "plt.title('표준 정구ㅠ분포')\n",
    "plt.xlabel(\"x axis\")\n",
    "plt.ylabel(\"y axis\")\n",
    "\n",
    "x =np.linspace(-5,5,100)\n",
    "pdf=1/(sigma*np.sqrt(2*np.pi)) *np.exp(-(x-mu)**2/(2*sigma**2))\n",
    "plt.plot(x,pdf,'b-.',linewidth=2,label=\"확률 빌도 함수\")\n",
    "\n",
    "plt.legend()\n",
    "plt.grid(True)\n",
    "plt.show()\n"
   ]
  },
  {
   "cell_type": "code",
   "execution_count": 52,
   "id": "82c70a23",
   "metadata": {},
   "outputs": [
    {
     "name": "stdout",
     "output_type": "stream",
     "text": [
      "you are non right\n"
     ]
    }
   ],
   "source": [
    "s=20000\n",
    "\n",
    "match s:\n",
    "    case 200:\n",
    "        print(\"googd\")\n",
    "    case 300:\n",
    "        print(\"non tyisi tis too big\")\n",
    "    case 400:\n",
    "        print(\"wwht did you doint correct the answer\")\n",
    "    case _:\n",
    "        print(\"you are non right\")\n"
   ]
  },
  {
   "cell_type": "code",
   "execution_count": 54,
   "id": "faee25db",
   "metadata": {},
   "outputs": [
    {
     "name": "stdout",
     "output_type": "stream",
     "text": [
      "1 [2, 3, 4]\n"
     ]
    }
   ],
   "source": [
    "st=[1,2,3,4]\n",
    "match st:\n",
    "    case(a,*b):\n",
    "        print(a,b)"
   ]
  },
  {
   "cell_type": "code",
   "execution_count": 61,
   "id": "536f2875",
   "metadata": {},
   "outputs": [],
   "source": [
    "def hello(friends):\n",
    "    match friends:\n",
    "        case \"영희\" | \"미수\" as name:\n",
    "            print(f\"연녕 ,{name}\")\n",
    "        case (name,\"others\"):\n",
    "            print(f\"얀냥,{name},{others} 친구들 \")"
   ]
  },
  {
   "cell_type": "code",
   "execution_count": 62,
   "id": "06300fdb",
   "metadata": {},
   "outputs": [
    {
     "name": "stdout",
     "output_type": "stream",
     "text": [
      "연녕 ,영희\n"
     ]
    }
   ],
   "source": [
    "hello('영희')\n",
    "hello(('현철','해동','미현'))\n",
    "hello([1,2,3,4])"
   ]
  },
  {
   "cell_type": "code",
   "execution_count": 63,
   "id": "9b806b9f",
   "metadata": {},
   "outputs": [],
   "source": [
    "hello(('현철','해동','미현'))"
   ]
  },
  {
   "cell_type": "code",
   "execution_count": 64,
   "id": "4414eeb5",
   "metadata": {},
   "outputs": [],
   "source": [
    "hello([1,2,3,4])"
   ]
  },
  {
   "cell_type": "code",
   "execution_count": 65,
   "id": "5f2e85b7",
   "metadata": {},
   "outputs": [
    {
     "data": {
      "text/plain": [
       "{'python': 3333}"
      ]
     },
     "execution_count": 65,
     "metadata": {},
     "output_type": "execute_result"
    }
   ],
   "source": [
    "dt={'python':3333}\n",
    "dt"
   ]
  },
  {
   "cell_type": "code",
   "execution_count": 68,
   "id": "de3e3b80",
   "metadata": {},
   "outputs": [
    {
     "data": {
      "text/plain": [
       "{'python': 3343}"
      ]
     },
     "execution_count": 68,
     "metadata": {},
     "output_type": "execute_result"
    }
   ],
   "source": [
    "dt:dict[str,int]={\"python\":3343}\n",
    "dt"
   ]
  },
  {
   "cell_type": "code",
   "execution_count": 72,
   "id": "745206e5",
   "metadata": {},
   "outputs": [],
   "source": [
    "def stringify(num):\n",
    "    return str(num)\n",
    "def plus(num1,num2):\n",
    "    return num1 + num2"
   ]
  },
  {
   "cell_type": "code",
   "execution_count": 73,
   "id": "9b576422",
   "metadata": {},
   "outputs": [],
   "source": [
    "def stringify(num:int)->str:\n",
    "    return str(num)\n",
    "\n",
    "def plus(num1:int, num2:int)->int:\n",
    "    return num1 + num2"
   ]
  },
  {
   "cell_type": "code",
   "execution_count": 74,
   "id": "792ea720",
   "metadata": {},
   "outputs": [
    {
     "data": {
      "text/plain": [
       "'3'"
      ]
     },
     "execution_count": 74,
     "metadata": {},
     "output_type": "execute_result"
    }
   ],
   "source": [
    "stringify(3)"
   ]
  },
  {
   "cell_type": "code",
   "execution_count": 75,
   "id": "de0af3cc",
   "metadata": {},
   "outputs": [
    {
     "data": {
      "text/plain": [
       "30"
      ]
     },
     "execution_count": 75,
     "metadata": {},
     "output_type": "execute_result"
    }
   ],
   "source": [
    "plus(10,20)"
   ]
  },
  {
   "cell_type": "code",
   "execution_count": null,
   "id": "01b39456",
   "metadata": {},
   "outputs": [
    {
     "name": "stdout",
     "output_type": "stream",
     "text": [
      "defaultdict(<class 'int'>, {})\n",
      "0\n"
     ]
    }
   ],
   "source": [
    "from collections import defaultdict \n",
    "int_dict=defaultdict(int)\n",
    "print(int_dict)\n",
    "print(int_dict['a'])\n",
    "print(int)"
   ]
  },
  {
   "cell_type": "code",
   "execution_count": 79,
   "id": "fc32db1c",
   "metadata": {},
   "outputs": [
    {
     "data": {
      "text/plain": [
       "False"
      ]
     },
     "execution_count": 79,
     "metadata": {},
     "output_type": "execute_result"
    }
   ],
   "source": [
    "bool([])"
   ]
  },
  {
   "cell_type": "code",
   "execution_count": 80,
   "id": "32bc06fd",
   "metadata": {},
   "outputs": [
    {
     "name": "stdout",
     "output_type": "stream",
     "text": [
      "Package                 Version\n",
      "----------------------- -----------\n",
      "asttokens               3.0.0\n",
      "colorama                0.4.6\n",
      "comm                    0.2.2\n",
      "debugpy                 1.8.14\n",
      "decorator               5.2.1\n",
      "executing               2.2.0\n",
      "ipykernel               6.29.5\n",
      "ipython                 9.3.0\n",
      "ipython_pygments_lexers 1.1.1\n",
      "jedi                    0.19.2\n",
      "jupyter_client          8.6.3\n",
      "jupyter_core            5.8.1\n",
      "matplotlib-inline       0.1.7\n",
      "nest-asyncio            1.6.0\n",
      "packaging               25.0\n",
      "parso                   0.8.4\n",
      "pip                     24.3.1\n",
      "platformdirs            4.3.8\n",
      "prompt_toolkit          3.0.51\n",
      "psutil                  7.0.0\n",
      "pure_eval               0.2.3\n",
      "Pygments                2.19.1\n",
      "python-dateutil         2.9.0.post0\n",
      "pywin32                 310\n",
      "pyzmq                   27.0.0\n",
      "six                     1.17.0\n",
      "stack-data              0.6.3\n",
      "tornado                 6.5.1\n",
      "traitlets               5.14.3\n",
      "wcwidth                 0.2.13\n",
      "Note: you may need to restart the kernel to use updated packages.\n"
     ]
    }
   ],
   "source": [
    "pip list"
   ]
  },
  {
   "cell_type": "code",
   "execution_count": null,
   "id": "8a42caf9",
   "metadata": {},
   "outputs": [],
   "source": []
  }
 ],
 "metadata": {
  "kernelspec": {
   "display_name": "Python 3",
   "language": "python",
   "name": "python3"
  },
  "language_info": {
   "codemirror_mode": {
    "name": "ipython",
    "version": 3
   },
   "file_extension": ".py",
   "mimetype": "text/x-python",
   "name": "python",
   "nbconvert_exporter": "python",
   "pygments_lexer": "ipython3",
   "version": "3.13.1"
  }
 },
 "nbformat": 4,
 "nbformat_minor": 5
}
